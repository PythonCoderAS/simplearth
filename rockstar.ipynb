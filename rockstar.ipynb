{
 "cells": [
  {
   "cell_type": "markdown",
   "metadata": {},
   "source": [
    "## Code for Module 3.2 of [EdX Class Climate Change: The Science and Global Impact](https://www.google.com/url?sa=t&rct=j&q=&esrc=s&source=web&cd=2&ved=2ahUKEwiMgeKbztDkAhVTs54KHaXeCLEQFjABegQIBRAB&url=https%3A%2F%2Fwww.edx.org%2Fcourse%2Fclimate-change-the-science-and-global-impact&usg=AOvVaw0N5Mjx1FJfER5BzsgTvAXV)"
   ]
  },
  {
   "cell_type": "code",
   "execution_count": 1,
   "metadata": {},
   "outputs": [],
   "source": [
    "using Unitful"
   ]
  },
  {
   "cell_type": "markdown",
   "metadata": {},
   "source": [
    "### 1. Shortwave Radiation Absorbed By the Earth \n",
    "S = [Solar Constant](https://en.wikipedia.org/wiki/Solar_constant) <br>\n",
    "α = [Planetary Albedo](https://en.wikipedia.org/wiki/Albedo)\n"
   ]
  },
  {
   "cell_type": "code",
   "execution_count": 2,
   "metadata": {},
   "outputs": [],
   "source": [
    "S = 1370u\"W/m^2\" \n",
    "α = .32;"
   ]
  },
  {
   "cell_type": "code",
   "execution_count": 3,
   "metadata": {},
   "outputs": [
    {
     "data": {
      "text/plain": [
       "232.89999999999998 W m^-2"
      ]
     },
     "execution_count": 3,
     "metadata": {},
     "output_type": "execute_result"
    }
   ],
   "source": [
    "absorbed = (1-α) * S/4"
   ]
  },
  {
   "cell_type": "markdown",
   "metadata": {},
   "source": [
    "### 2. Longwave Radation Emitted By the Earth is given by the [Stefan-Boltzmann Law](https://en.wikipedia.org/wiki/Stefan%E2%80%93Boltzmann_law)   \n",
    "σ = [Stefan-Boltzmann Constant](https://en.wikipedia.org/wiki/Stefan%E2%80%93Boltzmann_constant)<br>\n",
    "ϵ = [Emissivity](https://en.wikipedia.org/wiki/Emissivity) <br>\n",
    "Ts = Surface Temperature"
   ]
  },
  {
   "cell_type": "code",
   "execution_count": 17,
   "metadata": {},
   "outputs": [],
   "source": [
    "σ = 5.67e-8u\"W/m^2/K^4\"\n",
    "ϵ = 1 ;"
   ]
  },
  {
   "cell_type": "markdown",
   "metadata": {},
   "source": [
    "emitted = ϵ * σ * Ts⁴ <br>\n",
    "\n",
    "## Energy Balance\n",
    "set emitted = absorbed and solve for the surface temperature Ts:"
   ]
  },
  {
   "cell_type": "code",
   "execution_count": 40,
   "metadata": {},
   "outputs": [
    {
     "data": {
      "text/plain": [
       "253.16088628145764 K"
      ]
     },
     "execution_count": 40,
     "metadata": {},
     "output_type": "execute_result"
    }
   ],
   "source": [
    "Ts = (absorbed/( ϵ * σ ))^(1/4)  # Aha Mann used the linearized model below because he got 255"
   ]
  },
  {
   "cell_type": "code",
   "execution_count": 26,
   "metadata": {},
   "outputs": [
    {
     "data": {
      "text/plain": [
       "-3.980404693376272 °F"
      ]
     },
     "execution_count": 26,
     "metadata": {},
     "output_type": "execute_result"
    }
   ],
   "source": [
    "farenheit = uconvert(  u\"°F\" , Ts)"
   ]
  },
  {
   "cell_type": "code",
   "execution_count": 27,
   "metadata": {},
   "outputs": [
    {
     "data": {
      "text/plain": [
       "-19.98911371854234 °C"
      ]
     },
     "execution_count": 27,
     "metadata": {},
     "output_type": "execute_result"
    }
   ],
   "source": [
    "celcius = uconvert(  u\"°C\" , Ts)"
   ]
  },
  {
   "cell_type": "markdown",
   "metadata": {},
   "source": [
    "## 3. Linearize emitted =  ϵσT⁴ around 0°C = 273 K \n",
    "to obtain emitted = A + B T"
   ]
  },
  {
   "cell_type": "code",
   "execution_count": 35,
   "metadata": {},
   "outputs": [
    {
     "data": {
      "text/plain": [
       "314.94422338469997 W m^-2"
      ]
     },
     "execution_count": 35,
     "metadata": {},
     "output_type": "execute_result"
    }
   ],
   "source": [
    "A =  ϵ * σ  * (273u\"K\")^4"
   ]
  },
  {
   "cell_type": "code",
   "execution_count": 36,
   "metadata": {},
   "outputs": [
    {
     "data": {
      "text/plain": [
       "4.6145673756 W K^-1 m^-2"
      ]
     },
     "execution_count": 36,
     "metadata": {},
     "output_type": "execute_result"
    }
   ],
   "source": [
    "B = 4 * ϵ * σ  * (273u\"K\")^3 "
   ]
  },
  {
   "cell_type": "markdown",
   "metadata": {},
   "source": [
    "## 4. Solve Linearized Equation   (A+BT)= absorbed\n",
    "\n",
    "not sure why one needs a linear equation in 2019 but anyway this is where that 255 Kelvin came from"
   ]
  },
  {
   "cell_type": "code",
   "execution_count": 41,
   "metadata": {},
   "outputs": [
    {
     "data": {
      "text/plain": [
       "255.22060342676602 K"
      ]
     },
     "execution_count": 41,
     "metadata": {},
     "output_type": "execute_result"
    }
   ],
   "source": [
    "Linearized_Surface_Temperature = (absorbed-A)/B + (273u\"K\")"
   ]
  },
  {
   "cell_type": "markdown",
   "metadata": {},
   "source": [
    "Note: The Stefan Boltzmann emmitted = ϵ * σ * T⁴ takes T in units of Kelvin <br>\n",
    "The Linearized emitted = A+BT is using T in units of Celcius hence the shift to keep \"apples to apples\""
   ]
  },
  {
   "cell_type": "markdown",
   "metadata": {},
   "source": [
    "Note added after watching 3.4:  It's not only that we are linearizing ϵ * σ * T⁴  , which is a one parameter family of (slopes,pairs), but we are going to now just say, any linear will do, which is a two parameter family of (A,B) pairs, and we forget about Stefan Boltzmann. "
   ]
  },
  {
   "cell_type": "code",
   "execution_count": null,
   "metadata": {},
   "outputs": [],
   "source": []
  }
 ],
 "metadata": {
  "@webio": {
   "lastCommId": null,
   "lastKernelId": null
  },
  "kernelspec": {
   "display_name": "Julia 1.2.0",
   "language": "julia",
   "name": "julia-1.2"
  },
  "language_info": {
   "file_extension": ".jl",
   "mimetype": "application/julia",
   "name": "julia",
   "version": "1.2.0"
  }
 },
 "nbformat": 4,
 "nbformat_minor": 4
}
