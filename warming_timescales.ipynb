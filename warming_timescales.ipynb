{
 "cells": [
  {
   "cell_type": "markdown",
   "metadata": {},
   "source": [
    "# Code for simulating global warming (loosely based on Held et al. 2009)"
   ]
  },
  {
   "cell_type": "code",
   "execution_count": 1,
   "metadata": {},
   "outputs": [
    {
     "name": "stderr",
     "output_type": "stream",
     "text": [
      "┌ Info: Recompiling stale cache file /home/hdrake/.julia/compiled/v1.1/PyPlot/oatAj.ji for PyPlot [d330b81b-6aea-500a-939a-2ce795aea3ee]\n",
      "└ @ Base loading.jl:1184\n",
      "┌ Info: Installing matplotlib via the Conda matplotlib package...\n",
      "└ @ PyCall /home/hdrake/.julia/packages/PyCall/ttONZ/src/PyCall.jl:705\n",
      "┌ Info: Running `conda install -y matplotlib` in root environment\n",
      "└ @ Conda /home/hdrake/.julia/packages/Conda/kLXeC/src/Conda.jl:112\n"
     ]
    },
    {
     "name": "stdout",
     "output_type": "stream",
     "text": [
      "Collecting package metadata (current_repodata.json): ...working... done\n",
      "Solving environment: ...working... done\n",
      "\n",
      "## Package Plan ##\n",
      "\n",
      "  environment location: /home/hdrake/.julia/conda/3\n",
      "\n",
      "  added / updated specs:\n",
      "    - matplotlib\n",
      "\n",
      "\n",
      "The following packages will be downloaded:\n",
      "\n",
      "    package                    |            build\n",
      "    ---------------------------|-----------------\n",
      "    conda-4.7.12               |           py37_0         3.0 MB\n",
      "    cycler-0.10.0              |           py37_0          13 KB\n",
      "    dbus-1.13.6                |       h746ee38_0         499 KB\n",
      "    expat-2.2.6                |       he6710b0_0         146 KB\n",
      "    fontconfig-2.13.0          |       h9420a91_0         227 KB\n",
      "    freetype-2.9.1             |       h8a8886c_1         550 KB\n",
      "    glib-2.56.2                |       hd408876_0         3.9 MB\n",
      "    gst-plugins-base-1.14.0    |       hbbd80ab_1         4.8 MB\n",
      "    gstreamer-1.14.0           |       hb453b48_1         3.1 MB\n",
      "    icu-58.2                   |       h9c2bf20_1        10.3 MB\n",
      "    jpeg-9b                    |       h024ee3a_2         214 KB\n",
      "    kiwisolver-1.1.0           |   py37he6710b0_0          82 KB\n",
      "    libpng-1.6.37              |       hbc83047_0         278 KB\n",
      "    libuuid-1.0.3              |       h1bed415_2          15 KB\n",
      "    libxcb-1.13                |       h1bed415_1         421 KB\n",
      "    matplotlib-3.1.1           |   py37h5429711_0         5.0 MB\n",
      "    pcre-8.43                  |       he6710b0_0         209 KB\n",
      "    pyparsing-2.4.2            |             py_0          61 KB\n",
      "    pyqt-5.9.2                 |   py37h05f1152_2         4.5 MB\n",
      "    python-dateutil-2.8.0      |           py37_0         266 KB\n",
      "    pytz-2019.2                |             py_0         245 KB\n",
      "    qt-5.9.7                   |       h5867ecd_1        68.5 MB\n",
      "    sip-4.19.8                 |   py37hf484d3e_0         274 KB\n",
      "    tornado-6.0.3              |   py37h7b6447c_0         584 KB\n",
      "    ------------------------------------------------------------\n",
      "                                           Total:       107.1 MB\n",
      "\n",
      "The following NEW packages will be INSTALLED:\n",
      "\n",
      "  cycler             pkgs/main/linux-64::cycler-0.10.0-py37_0\n",
      "  dbus               pkgs/main/linux-64::dbus-1.13.6-h746ee38_0\n",
      "  expat              pkgs/main/linux-64::expat-2.2.6-he6710b0_0\n",
      "  fontconfig         pkgs/main/linux-64::fontconfig-2.13.0-h9420a91_0\n",
      "  freetype           pkgs/main/linux-64::freetype-2.9.1-h8a8886c_1\n",
      "  glib               pkgs/main/linux-64::glib-2.56.2-hd408876_0\n",
      "  gst-plugins-base   pkgs/main/linux-64::gst-plugins-base-1.14.0-hbbd80ab_1\n",
      "  gstreamer          pkgs/main/linux-64::gstreamer-1.14.0-hb453b48_1\n",
      "  icu                pkgs/main/linux-64::icu-58.2-h9c2bf20_1\n",
      "  jpeg               pkgs/main/linux-64::jpeg-9b-h024ee3a_2\n",
      "  kiwisolver         pkgs/main/linux-64::kiwisolver-1.1.0-py37he6710b0_0\n",
      "  libpng             pkgs/main/linux-64::libpng-1.6.37-hbc83047_0\n",
      "  libuuid            pkgs/main/linux-64::libuuid-1.0.3-h1bed415_2\n",
      "  libxcb             pkgs/main/linux-64::libxcb-1.13-h1bed415_1\n",
      "  matplotlib         pkgs/main/linux-64::matplotlib-3.1.1-py37h5429711_0\n",
      "  pcre               pkgs/main/linux-64::pcre-8.43-he6710b0_0\n",
      "  pyparsing          pkgs/main/noarch::pyparsing-2.4.2-py_0\n",
      "  pyqt               pkgs/main/linux-64::pyqt-5.9.2-py37h05f1152_2\n",
      "  python-dateutil    pkgs/main/linux-64::python-dateutil-2.8.0-py37_0\n",
      "  pytz               pkgs/main/noarch::pytz-2019.2-py_0\n",
      "  qt                 pkgs/main/linux-64::qt-5.9.7-h5867ecd_1\n",
      "  sip                pkgs/main/linux-64::sip-4.19.8-py37hf484d3e_0\n",
      "  tornado            pkgs/main/linux-64::tornado-6.0.3-py37h7b6447c_0\n",
      "\n",
      "The following packages will be UPDATED:\n",
      "\n",
      "  conda                                       4.7.11-py37_0 --> 4.7.12-py37_0\n",
      "\n",
      "\n",
      "\n",
      "Downloading and Extracting Packages\n",
      "expat-2.2.6          | 146 KB    | ########## | 100% \n",
      "pytz-2019.2          | 245 KB    | ########## | 100% \n",
      "python-dateutil-2.8. | 266 KB    | ########## | 100% \n",
      "jpeg-9b              | 214 KB    | ########## | 100% \n",
      "glib-2.56.2          | 3.9 MB    | ########## | 100% \n",
      "sip-4.19.8           | 274 KB    | ########## | 100% \n",
      "pyparsing-2.4.2      | 61 KB     | ########## | 100% \n",
      "gstreamer-1.14.0     | 3.1 MB    | ########## | 100% \n",
      "cycler-0.10.0        | 13 KB     | ########## | 100% \n",
      "icu-58.2             | 10.3 MB   | ########## | 100% \n",
      "freetype-2.9.1       | 550 KB    | ########## | 100% \n",
      "tornado-6.0.3        | 584 KB    | ########## | 100% \n",
      "libuuid-1.0.3        | 15 KB     | ########## | 100% \n",
      "kiwisolver-1.1.0     | 82 KB     | ########## | 100% \n",
      "dbus-1.13.6          | 499 KB    | ########## | 100% \n",
      "libpng-1.6.37        | 278 KB    | ########## | 100% \n",
      "gst-plugins-base-1.1 | 4.8 MB    | ########## | 100% \n",
      "pcre-8.43            | 209 KB    | ########## | 100% \n",
      "fontconfig-2.13.0    | 227 KB    | ########## | 100% \n",
      "conda-4.7.12         | 3.0 MB    | ########## | 100% \n",
      "libxcb-1.13          | 421 KB    | ########## | 100% \n",
      "qt-5.9.7             | 68.5 MB   | ########## | 100% \n",
      "pyqt-5.9.2           | 4.5 MB    | ########## | 100% \n",
      "matplotlib-3.1.1     | 5.0 MB    | ########## | 100% \n",
      "Preparing transaction: ...working... done\n",
      "Verifying transaction: ...working... done\n",
      "Executing transaction: ...working... done\n"
     ]
    }
   ],
   "source": [
    "using Unitful\n",
    "using PyPlot"
   ]
  },
  {
   "cell_type": "code",
   "execution_count": 22,
   "metadata": {},
   "outputs": [
    {
     "data": {
      "text/plain": [
       "3.7"
      ]
     },
     "execution_count": 22,
     "metadata": {},
     "output_type": "execute_result"
    }
   ],
   "source": [
    "T = 0#u\"K\"  # surface air temperature anomaly\n",
    "Td = 0#u\"K\" # deep ocean temperature anomaly\n",
    "β = 4.6145673756#u\"W/m^2/K\" # derivative of outgoing flux to space with respect to T\n",
    "Cf = (3600. * 24. * 365.)# surface ocean heat capacity (units?)\n",
    "Cd = 1.# deep ocean heat capacity\n",
    "F = 3.7#u\"W/m^2\"  # forcing\n",
    "\n",
    "#τf = Cf/(β+γ)"
   ]
  },
  {
   "cell_type": "markdown",
   "metadata": {},
   "source": [
    "# Example:\n",
    "\\begin{equation}\n",
    "C_{f} \\frac{\\text{d}T}{\\text{d}t} = -\\beta T + F\n",
    "\\end{equation}\n",
    "\n",
    "which we discretize as:\n"
   ]
  },
  {
   "cell_type": "markdown",
   "metadata": {},
   "source": [
    "\\begin{equation}\n",
    "T_{k+1} = T_{k} + \\Delta t \\left(\\frac{F}{C_{f}} - T_{k} \\frac{\\beta}{C_{f}}\\right)\n",
    "\\end{equation}"
   ]
  },
  {
   "cell_type": "code",
   "execution_count": 23,
   "metadata": {},
   "outputs": [],
   "source": [
    "Δt = 3600. * 24\n",
    "tvec = Δt:Δt:365*5*Δt\n",
    "Tvec=zeros(size(tvec))\n",
    "Tvec[1] = T\n",
    "\n",
    "sec_to_year = (365. * 24. * 3600.)^-1\n",
    "for idx=1:length(tvec)-1\n",
    "    Tvec[idx+1] = Tvec[idx] + Δt*(F/Cf - Tvec[idx]*β/Cf)\n",
    "end"
   ]
  },
  {
   "cell_type": "code",
   "execution_count": 24,
   "metadata": {},
   "outputs": [
    {
     "data": {
      "image/png": "[encoded data removed]",
      "text/plain": [
       "Figure(PyObject <Figure size 640x480 with 1 Axes>)"
      ]
     },
     "metadata": {},
     "output_type": "display_data"
    },
    {
     "data": {
      "text/plain": [
       "1-element Array{PyCall.PyObject,1}:\n",
       " PyObject <matplotlib.lines.Line2D object at 0x7ff43b33d550>"
      ]
     },
     "execution_count": 24,
     "metadata": {},
     "output_type": "execute_result"
    }
   ],
   "source": [
    "plot(tvec*sec_to_year,Tvec)"
   ]
  }
 ],
 "metadata": {
  "kernelspec": {
   "display_name": "Julia 1.1.0",
   "language": "julia",
   "name": "julia-1.1"
  },
  "language_info": {
   "file_extension": ".jl",
   "mimetype": "application/julia",
   "name": "julia",
   "version": "1.1.0"
  }
 },
 "nbformat": 4,
 "nbformat_minor": 4
}
