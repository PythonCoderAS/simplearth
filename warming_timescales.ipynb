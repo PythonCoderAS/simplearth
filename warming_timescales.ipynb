{
 "cells": [
  {
   "cell_type": "markdown",
   "metadata": {},
   "source": [
    "# Global warming simulator\n",
    "\n",
    "The following code simulates the time-dependent global warming due to a strengthening greenhouse effect caused by human emissions of greenhouse gases. The current version of the model emits the effect of the greenhouse effect on the equilibrium climate and so. You can swap out the parameter $B$ for a smaller gray-gas value for a better estimate of the model's sensitivity to radiative forcing. The code will hopefully soon be expanded to include a deep-ocean reservoir for heat, roughly following Held et al. 2009 (https://journals.ametsoc.org/doi/full/10.1175/2009JCLI3466.1)."
   ]
  },
  {
   "cell_type": "code",
   "execution_count": 1,
   "metadata": {},
   "outputs": [
    {
     "name": "stderr",
     "output_type": "stream",
     "text": [
      "┌ Info: Precompiling PyPlot [d330b81b-6aea-500a-939a-2ce795aea3ee]\n",
      "└ @ Base loading.jl:1242\n",
      "┌ Info: Installing matplotlib via the Conda matplotlib package...\n",
      "└ @ PyCall /Users/hdrake/.julia/packages/PyCall/ttONZ/src/PyCall.jl:705\n",
      "┌ Info: Running `conda install -y matplotlib` in root environment\n",
      "└ @ Conda /Users/hdrake/.julia/packages/Conda/kLXeC/src/Conda.jl:112\n"
     ]
    },
    {
     "name": "stdout",
     "output_type": "stream",
     "text": [
      "Collecting package metadata (current_repodata.json): ...working... done\n",
      "Solving environment: ...working... done\n",
      "\n",
      "## Package Plan ##\n",
      "\n",
      "  environment location: /Users/hdrake/.julia/conda/3\n",
      "\n",
      "  added / updated specs:\n",
      "    - matplotlib\n",
      "\n",
      "\n",
      "The following packages will be downloaded:\n",
      "\n",
      "    package                    |            build\n",
      "    ---------------------------|-----------------\n",
      "    cycler-0.10.0              |           py37_0          14 KB\n",
      "    freetype-2.9.1             |       hb4e5f40_0         555 KB\n",
      "    kiwisolver-1.1.0           |   py37h0a44026_0          54 KB\n",
      "    libpng-1.6.37              |       ha441bb4_0         262 KB\n",
      "    matplotlib-3.1.1           |   py37h54f8f79_0         4.9 MB\n",
      "    pyparsing-2.4.2            |             py_0          61 KB\n",
      "    pytz-2019.2                |             py_0         245 KB\n",
      "    ------------------------------------------------------------\n",
      "                                           Total:         6.1 MB\n",
      "\n",
      "The following NEW packages will be INSTALLED:\n",
      "\n",
      "  cycler             pkgs/main/osx-64::cycler-0.10.0-py37_0\n",
      "  freetype           pkgs/main/osx-64::freetype-2.9.1-hb4e5f40_0\n",
      "  kiwisolver         pkgs/main/osx-64::kiwisolver-1.1.0-py37h0a44026_0\n",
      "  libpng             pkgs/main/osx-64::libpng-1.6.37-ha441bb4_0\n",
      "  matplotlib         pkgs/main/osx-64::matplotlib-3.1.1-py37h54f8f79_0\n",
      "  pyparsing          pkgs/main/noarch::pyparsing-2.4.2-py_0\n",
      "  pytz               pkgs/main/noarch::pytz-2019.2-py_0\n",
      "\n",
      "\n",
      "\n",
      "Downloading and Extracting Packages\n",
      "pytz-2019.2          | 245 KB    | ########## | 100% \n",
      "cycler-0.10.0        | 14 KB     | ########## | 100% \n",
      "kiwisolver-1.1.0     | 54 KB     | ########## | 100% \n",
      "matplotlib-3.1.1     | 4.9 MB    | ########## | 100% \n",
      "libpng-1.6.37        | 262 KB    | ########## | 100% \n",
      "freetype-2.9.1       | 555 KB    | ########## | 100% \n",
      "pyparsing-2.4.2      | 61 KB     | ########## | 100% \n",
      "Preparing transaction: ...working... done\n",
      "Verifying transaction: ...working... done\n",
      "Executing transaction: ...working... done\n"
     ]
    },
    {
     "name": "stderr",
     "output_type": "stream",
     "text": [
      "┌ Info: Installing pyqt package to avoid buggy tkagg backend.\n",
      "└ @ PyPlot /Users/hdrake/.julia/packages/PyPlot/4wzW1/src/init.jl:118\n",
      "┌ Info: Installing PyQt5 via the Conda pyqt package...\n",
      "└ @ PyCall /Users/hdrake/.julia/packages/PyCall/ttONZ/src/PyCall.jl:705\n",
      "┌ Info: Running `conda install -y pyqt` in root environment\n",
      "└ @ Conda /Users/hdrake/.julia/packages/Conda/kLXeC/src/Conda.jl:112\n"
     ]
    },
    {
     "name": "stdout",
     "output_type": "stream",
     "text": [
      "Collecting package metadata (current_repodata.json): ...working... done\n",
      "Solving environment: ...working... done\n",
      "\n",
      "## Package Plan ##\n",
      "\n",
      "  environment location: /Users/hdrake/.julia/conda/3\n",
      "\n",
      "  added / updated specs:\n",
      "    - pyqt\n",
      "\n",
      "\n",
      "The following packages will be downloaded:\n",
      "\n",
      "    package                    |            build\n",
      "    ---------------------------|-----------------\n",
      "    dbus-1.13.6                |       h90a0687_0         445 KB\n",
      "    expat-2.2.6                |       h0a44026_0         111 KB\n",
      "    gettext-0.19.8.1           |       h15daf44_3         2.6 MB\n",
      "    glib-2.56.2                |       hd9629dc_0         3.7 MB\n",
      "    icu-58.2                   |       h4b95b61_1        10.1 MB\n",
      "    jpeg-9b                    |       he5867d9_2         201 KB\n",
      "    pcre-8.43                  |       h0a44026_0         185 KB\n",
      "    pyqt-5.9.2                 |   py37h655552a_2         3.6 MB\n",
      "    qt-5.9.7                   |       h468cd18_1        62.0 MB\n",
      "    sip-4.19.8                 |   py37h0a44026_0         237 KB\n",
      "    ------------------------------------------------------------\n",
      "                                           Total:        83.2 MB\n",
      "\n",
      "The following NEW packages will be INSTALLED:\n",
      "\n",
      "  dbus               pkgs/main/osx-64::dbus-1.13.6-h90a0687_0\n",
      "  expat              pkgs/main/osx-64::expat-2.2.6-h0a44026_0\n",
      "  gettext            pkgs/main/osx-64::gettext-0.19.8.1-h15daf44_3\n",
      "  glib               pkgs/main/osx-64::glib-2.56.2-hd9629dc_0\n",
      "  icu                pkgs/main/osx-64::icu-58.2-h4b95b61_1\n",
      "  jpeg               pkgs/main/osx-64::jpeg-9b-he5867d9_2\n",
      "  pcre               pkgs/main/osx-64::pcre-8.43-h0a44026_0\n",
      "  pyqt               pkgs/main/osx-64::pyqt-5.9.2-py37h655552a_2\n",
      "  qt                 pkgs/main/osx-64::qt-5.9.7-h468cd18_1\n",
      "  sip                pkgs/main/osx-64::sip-4.19.8-py37h0a44026_0\n",
      "\n",
      "\n",
      "\n",
      "Downloading and Extracting Packages\n",
      "pcre-8.43            | 185 KB    | ########## | 100% \n",
      "qt-5.9.7             | 62.0 MB   | ########## | 100% \n",
      "glib-2.56.2          | 3.7 MB    | ########## | 100% \n",
      "jpeg-9b              | 201 KB    | ########## | 100% \n",
      "dbus-1.13.6          | 445 KB    | ########## | 100% \n",
      "gettext-0.19.8.1     | 2.6 MB    | ########## | 100% \n",
      "icu-58.2             | 10.1 MB   | ########## | 100% \n",
      "sip-4.19.8           | 237 KB    | ########## | 100% \n",
      "expat-2.2.6          | 111 KB    | ########## | 100% \n",
      "pyqt-5.9.2           | 3.6 MB    | ########## | 100% \n",
      "Preparing transaction: ...working... done\n",
      "Verifying transaction: ...working... done\n",
      "Executing transaction: ...working... done\n"
     ]
    }
   ],
   "source": [
    "using Unitful\n",
    "using PyPlot"
   ]
  },
  {
   "cell_type": "markdown",
   "metadata": {},
   "source": [
    "Consider the \"Rock-Star\" zero-dimensional system from Michael Mann's Module 3.4 in which the solar radiation absorbed by Earth is balanced by its thermal radiation (giving by the Stefan-Boltzmann) relationship:\n",
    "\\begin{equation}\n",
    "c_{f} \\frac{\\text{d}T}{\\text{d}t} = \\frac{S(1-\\alpha)}{4} - \\sigma T^{4} + F(t)\n",
    "\\end{equation}\n",
    "where $\\alpha=0.32$ is the albedo, $\\sigma$ is the Stefan-Boltzmann constant, $T=255\\text{ K}$ is the average surface temperature of Earth, $S=1360\\text{ W/m}^{2}$ is the Solar Constant, and $c_{f}$ is the effective heat capacity per unit area of the Earth, and $F(t)$ is the greenhouse effect due to increasing greenhouse gas emissions (such as carbon dioxide CO$_{2}$ and methane CH$_{4}$).\n",
    "\n",
    "We approximate the \"business as usual\" or \"worst case\" future emissions scenario known as RCP8.5 (meaning an increase in radiative forcing of $8.5\\text{ W/m}^{2}$) by the linear function $F(t)=\\frac{8.5 \\text{ W/m}^{2}}{100 \\text{ years}} (t-t_{0}) H(t-t_{0})$, where $H(x)$ is the heavyside funciton, which is zero until $t=t_{0}$ and then increases from $F(t_{0})=0$ at $t_{0}=2000\\text{ CE}$ to $F(t_{final})=8.5\\text{ W/m}^{2}$ at $t_{0}=2100\\text{ CE}$."
   ]
  },
  {
   "cell_type": "code",
   "execution_count": 145,
   "metadata": {},
   "outputs": [
    {
     "data": {
      "image/png": "[encoded data removed]",
      "text/plain": [
       "Figure(PyObject <Figure size 640x480 with 1 Axes>)"
      ]
     },
     "metadata": {},
     "output_type": "display_data"
    }
   ],
   "source": [
    "sec_in_year = (365. * 24. * 60. * 60.)u\"s\"\n",
    "t0 = (2000. * sec_in_year); # initial condition in 2000\n",
    "Δt = (24. * 60. * 60.)u\"s\"; # 1 day time step\n",
    "t = t0:Δt:(t0+Δt * 100. * 365.); # time array from 2000 to 2100\n",
    "\n",
    "Ffinal = 8.5u\"W/m^2\";\n",
    "F = Ffinal / (100. * sec_in_year) * (t .- t0) # radiative forcing due to greenhouse effect\n",
    "\n",
    "# Make plot of radiative forcing\n",
    "plot(t/sec_in_year,ustrip.(F))\n",
    "xlabel(\"year\")\n",
    "ylabel(L\"radiative forcing (W/m$^{2}$)\");"
   ]
  },
  {
   "cell_type": "markdown",
   "metadata": {},
   "source": [
    "Since the surface of the planet is mostly covered by oceans, a good first approximation for Earth's heat capacity is the heat capacity of the upper $100$ m of the ocean which are constantly mixed and efficiently exchange heat with the atmosphere. The heat capacity of this layer is given by $c_{f} = c_{p}\\rho H$ where $c_{p} = 1$ is the specific heat capacity of water, $\\rho = 1000 \\text{ kg/m}^{3}$ is the density of water, and $H=100 \\text{ m}$ is the thickness of the surface mixed layer."
   ]
  },
  {
   "cell_type": "code",
   "execution_count": 146,
   "metadata": {},
   "outputs": [
    {
     "data": {
      "text/plain": [
       "4.18e8 J K^-1 m^-2"
      ]
     },
     "execution_count": 146,
     "metadata": {},
     "output_type": "execute_result"
    }
   ],
   "source": [
    "H = 100u\"m\"; # depth of surface ocean mixed layer\n",
    "ρ = 1000u\"kg/m^3\"; # density of liquid water \n",
    "c_p = 4180.0u\"J/kg/K\"; # specific heat capacity of liquid  water\n",
    "\n",
    "c_f = c_p * ρ * H # upper ocean heat capacity"
   ]
  },
  {
   "cell_type": "markdown",
   "metadata": {},
   "source": [
    "For simplicity, we linearize the system around $t_{0}$, i.e. approximating $\\sigma T^{4} \\approx A + B(T-T_{0})$:\n",
    "\n",
    "\\begin{equation}\n",
    "c_{f} \\frac{\\text{d}T}{\\text{d}t} = \\frac{S(1-\\alpha)}{4} - A - B(T-T_{0}) + F(t)\n",
    "\\end{equation}\n",
    "\n",
    "If we assume the system is at equilibrium before $t=t_{0}$, then we have simply\n",
    "\\begin{equation}\n",
    "0=\\frac{S(1-\\alpha)}{4} - A\n",
    "\\end{equation}\n",
    "\n",
    "If we then define $T'=T-T_{0}$ as the temperature *anomaly*, we have the simplified linear system for the evolution of the temperature anomaly:\n",
    "\\begin{equation}\n",
    "c_{f} \\frac{\\text{d}T'}{\\text{d}t} = - BT' + F(t)\n",
    "\\end{equation}\n",
    "\n",
    "The linear coefficient $B$ is given by the derivative of $\\sigma T^{4}$ with respect to $T$ evaluated at $T=T_{0}$,\n",
    "\\begin{equation}\n",
    "B=4\\sigma T_{0}^3\n",
    "\\end{equation}"
   ]
  },
  {
   "cell_type": "code",
   "execution_count": 148,
   "metadata": {},
   "outputs": [],
   "source": [
    "T0 = 255u\"K\"; # equilibrium temperature \n",
    "σ = 5.67e-8u\"W/m^2/K^4\"; # Stefan-Boltzmann constant\n",
    "B = 4 * σ  * (T0)^3; # derivative of outgoing flux to space with respect to T"
   ]
  },
  {
   "cell_type": "markdown",
   "metadata": {},
   "source": [
    "# A simple numerical solver\n",
    "\n",
    "To solve the following equation, \n",
    "\n",
    "\\begin{equation}\n",
    "c_{f} \\frac{\\text{d}T'}{\\text{d}t} = -B T' + F(t)\n",
    "\\end{equation}\n",
    "with initial condition $T'=0\\text{ K}$.\n",
    "\n",
    "we discretize using forward finite differences:\n",
    "\\begin{equation}\n",
    "c_{f} \\frac{T'_{k+1} - T'_{k}}{\\Delta t}=  F_{k} - T'_{k}B\n",
    "\\end{equation}\n",
    "\n",
    "which we rewrite in terms of the future temperature $T'_{k+1}$ as\n",
    "\\begin{equation}\n",
    "T'_{k+1} = T'_{k} + \\Delta t \\left(\\frac{F_{k}}{c_{f}} - T'_{k} \\frac{B}{c_{f}}\\right)\n",
    "\\end{equation}"
   ]
  },
  {
   "cell_type": "code",
   "execution_count": 131,
   "metadata": {},
   "outputs": [],
   "source": [
    "T=zeros(size(t))u\"K\" # initial condition\n",
    "\n",
    "for k=1:length(t)-1\n",
    "    T[k+1] = T[k] .+ Δt .* (F[k]./c_f .- T[k]*B/c_f)\n",
    "end"
   ]
  },
  {
   "cell_type": "code",
   "execution_count": 150,
   "metadata": {},
   "outputs": [
    {
     "data": {
      "image/png": "[encoded data removed]",
      "text/plain": [
       "Figure(PyObject <Figure size 640x480 with 1 Axes>)"
      ]
     },
     "metadata": {},
     "output_type": "display_data"
    }
   ],
   "source": [
    "plot(t/sec_in_year,ustrip.(T))\n",
    "xlabel(\"year\")\n",
    "ylabel(L\"temperature anomaly $T'$ ($\\degree$C)\");"
   ]
  },
  {
   "cell_type": "code",
   "execution_count": null,
   "metadata": {},
   "outputs": [],
   "source": []
  }
 ],
 "metadata": {
  "kernelspec": {
   "display_name": "Julia 1.2.0",
   "language": "julia",
   "name": "julia-1.2"
  },
  "language_info": {
   "file_extension": ".jl",
   "mimetype": "application/julia",
   "name": "julia",
   "version": "1.2.0"
  }
 },
 "nbformat": 4,
 "nbformat_minor": 4
}
